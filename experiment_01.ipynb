{
 "cells": [
  {
   "cell_type": "markdown",
   "id": "efd10303-7bab-41c7-a202-9f18cc6e94d2",
   "metadata": {},
   "source": [
    "# Experimento 01"
   ]
  },
  {
   "cell_type": "code",
   "execution_count": null,
   "id": "f892770a-4066-49bf-8263-9fbc23ed08d6",
   "metadata": {},
   "outputs": [],
   "source": []
  },
  {
   "cell_type": "markdown",
   "id": "e62c5285-d48b-4346-98fe-d623353cf30e",
   "metadata": {},
   "source": [
    "## Importar os dados"
   ]
  },
  {
   "cell_type": "code",
   "execution_count": null,
   "id": "bad22732-56f5-4c0b-9ac3-b57fb041f491",
   "metadata": {},
   "outputs": [],
   "source": []
  },
  {
   "cell_type": "code",
   "execution_count": null,
   "id": "05c117b2-6c88-4570-82e4-0b68b0f7df9e",
   "metadata": {},
   "outputs": [],
   "source": []
  },
  {
   "cell_type": "markdown",
   "id": "14ce400a-da07-4d09-926a-67959aabb635",
   "metadata": {},
   "source": [
    "## Análise dos dados"
   ]
  },
  {
   "cell_type": "code",
   "execution_count": null,
   "id": "692003e8-b648-4f8d-bc3d-29b0124a673f",
   "metadata": {},
   "outputs": [],
   "source": []
  },
  {
   "cell_type": "code",
   "execution_count": null,
   "id": "a6a7770e-dadd-46b0-8de6-2178c8616f45",
   "metadata": {},
   "outputs": [],
   "source": []
  },
  {
   "cell_type": "code",
   "execution_count": null,
   "id": "956640a9-b063-4273-b622-c7bad34137d7",
   "metadata": {},
   "outputs": [],
   "source": []
  },
  {
   "cell_type": "code",
   "execution_count": null,
   "id": "2b4752a9-34a6-4c21-9e28-f3c39e10c34b",
   "metadata": {},
   "outputs": [],
   "source": []
  },
  {
   "cell_type": "markdown",
   "id": "efadcb33-48a8-4bb2-a0ef-bff8deb779bf",
   "metadata": {},
   "source": [
    "## Limpeza dos dados"
   ]
  },
  {
   "cell_type": "code",
   "execution_count": null,
   "id": "a91ad498-6b1c-4172-910a-fb57954bdd1f",
   "metadata": {},
   "outputs": [],
   "source": []
  },
  {
   "cell_type": "code",
   "execution_count": null,
   "id": "5b14ec42-9533-433e-94ff-5e1e0ff4ef99",
   "metadata": {},
   "outputs": [],
   "source": []
  },
  {
   "cell_type": "code",
   "execution_count": null,
   "id": "d75b19ea-b928-4a73-808c-8bdce05ae76e",
   "metadata": {},
   "outputs": [],
   "source": []
  },
  {
   "cell_type": "markdown",
   "id": "e9c17943-32af-41df-b0db-2796456ba440",
   "metadata": {},
   "source": [
    "## Pré-processamento dos dados"
   ]
  },
  {
   "cell_type": "code",
   "execution_count": null,
   "id": "f24a5758-6fe0-470c-8cf8-dd55e50fcdbb",
   "metadata": {},
   "outputs": [],
   "source": []
  },
  {
   "cell_type": "code",
   "execution_count": null,
   "id": "17394096-09a8-4a79-b33b-8eb243f30f8d",
   "metadata": {},
   "outputs": [],
   "source": []
  },
  {
   "cell_type": "code",
   "execution_count": null,
   "id": "5b88af84-a060-4642-b6eb-a8b47ac8d597",
   "metadata": {},
   "outputs": [],
   "source": []
  },
  {
   "cell_type": "markdown",
   "id": "99dc13b6-7a5b-4f80-8a40-f33b0130082d",
   "metadata": {},
   "source": [
    "## Construção dos modelos"
   ]
  },
  {
   "cell_type": "code",
   "execution_count": null,
   "id": "a1c51791-d6fd-4e55-9a8e-717e76a8dc05",
   "metadata": {},
   "outputs": [],
   "source": []
  },
  {
   "cell_type": "code",
   "execution_count": null,
   "id": "4c8c291b-f4f8-45cc-8de7-e44093dcb566",
   "metadata": {},
   "outputs": [],
   "source": []
  },
  {
   "cell_type": "code",
   "execution_count": null,
   "id": "266ff30f-09a8-459d-8123-89a63f60d33a",
   "metadata": {},
   "outputs": [],
   "source": []
  },
  {
   "cell_type": "code",
   "execution_count": null,
   "id": "0e80a817-f565-4b88-a017-d9e8415053dd",
   "metadata": {},
   "outputs": [],
   "source": []
  },
  {
   "cell_type": "code",
   "execution_count": null,
   "id": "c6042724-6b38-4556-b408-98056c48e213",
   "metadata": {},
   "outputs": [],
   "source": []
  },
  {
   "cell_type": "code",
   "execution_count": null,
   "id": "a9414768-1aa7-44bd-922b-903b2c9f86a4",
   "metadata": {},
   "outputs": [],
   "source": []
  },
  {
   "cell_type": "code",
   "execution_count": null,
   "id": "0b3d22d3-7ea8-4db2-bc2d-5ef75a0d8bde",
   "metadata": {},
   "outputs": [],
   "source": []
  },
  {
   "cell_type": "code",
   "execution_count": null,
   "id": "8e7ecb50-be52-4b22-ac9a-82a0441951cd",
   "metadata": {},
   "outputs": [],
   "source": []
  },
  {
   "cell_type": "code",
   "execution_count": null,
   "id": "e7949a07-9f6b-498b-b76c-86b8036fed83",
   "metadata": {},
   "outputs": [],
   "source": []
  },
  {
   "cell_type": "code",
   "execution_count": null,
   "id": "3159f2a1-38f6-4861-8ca9-8bcc9fd63951",
   "metadata": {},
   "outputs": [],
   "source": []
  },
  {
   "cell_type": "code",
   "execution_count": null,
   "id": "45790b19-04d8-4647-b444-515f190a0913",
   "metadata": {},
   "outputs": [],
   "source": []
  },
  {
   "cell_type": "code",
   "execution_count": null,
   "id": "23de0dc5-50a5-4e56-9d37-b01145eaeb32",
   "metadata": {},
   "outputs": [],
   "source": []
  },
  {
   "cell_type": "code",
   "execution_count": null,
   "id": "4df01cce-1f96-4940-b25b-5aa2afec4d7b",
   "metadata": {},
   "outputs": [],
   "source": []
  }
 ],
 "metadata": {
  "kernelspec": {
   "display_name": "Python 3 (ipykernel)",
   "language": "python",
   "name": "python3"
  },
  "language_info": {
   "codemirror_mode": {
    "name": "ipython",
    "version": 3
   },
   "file_extension": ".py",
   "mimetype": "text/x-python",
   "name": "python",
   "nbconvert_exporter": "python",
   "pygments_lexer": "ipython3",
   "version": "3.9.12"
  }
 },
 "nbformat": 4,
 "nbformat_minor": 5
}
